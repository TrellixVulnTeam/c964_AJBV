{
 "cells": [
  {
   "cell_type": "code",
   "execution_count": null,
   "id": "6f61bcf9",
   "metadata": {
    "_cell_guid": "b1076dfc-b9ad-4769-8c92-a6c4dae69d19",
    "_uuid": "8f2839f25d086af736a60e9eeb907d3b93b6e0e5",
    "execution": {
     "iopub.execute_input": "2022-04-27T16:45:31.760965Z",
     "iopub.status.busy": "2022-04-27T16:45:31.760331Z",
     "iopub.status.idle": "2022-04-27T16:45:31.782575Z",
     "shell.execute_reply": "2022-04-27T16:45:31.781689Z"
    },
    "papermill": {
     "duration": 0.039464,
     "end_time": "2022-04-27T16:45:31.785053",
     "exception": false,
     "start_time": "2022-04-27T16:45:31.745589",
     "status": "completed"
    },
    "tags": []
   },
   "outputs": [],
   "source": []
  },
  {
   "cell_type": "code",
   "execution_count": 44,
   "id": "ad6e9fbb",
   "metadata": {
    "execution": {
     "iopub.execute_input": "2022-04-27T16:45:31.809651Z",
     "iopub.status.busy": "2022-04-27T16:45:31.809361Z",
     "iopub.status.idle": "2022-04-27T16:45:33.232748Z",
     "shell.execute_reply": "2022-04-27T16:45:33.231663Z"
    },
    "papermill": {
     "duration": 1.438014,
     "end_time": "2022-04-27T16:45:33.235091",
     "exception": false,
     "start_time": "2022-04-27T16:45:31.797077",
     "status": "completed"
    },
    "tags": []
   },
   "outputs": [],
   "source": [
    "import pandas as pd\n",
    "import numpy as np\n",
    "from sklearn.model_selection import train_test_split\n",
    "from sklearn.preprocessing import StandardScaler\n",
    "from sklearn.neighbors import KNeighborsClassifier\n",
    "from sklearn.metrics import confusion_matrix\n",
    "from sklearn.metrics import f1_score\n",
    "from sklearn.metrics import accuracy_score"
   ]
  },
  {
   "cell_type": "code",
   "execution_count": 45,
   "id": "123769e2",
   "metadata": {
    "execution": {
     "iopub.execute_input": "2022-04-27T16:45:33.260659Z",
     "iopub.status.busy": "2022-04-27T16:45:33.259988Z",
     "iopub.status.idle": "2022-04-27T16:45:33.287214Z",
     "shell.execute_reply": "2022-04-27T16:45:33.286261Z"
    },
    "papermill": {
     "duration": 0.041989,
     "end_time": "2022-04-27T16:45:33.289526",
     "exception": false,
     "start_time": "2022-04-27T16:45:33.247537",
     "status": "completed"
    },
    "tags": []
   },
   "outputs": [
    {
     "name": "stdout",
     "output_type": "stream",
     "text": [
      "768\n",
      "   Pregnancies  Glucose  BloodPressure  SkinThickness  Insulin   BMI  \\\n",
      "0            6      148             72             35        0  33.6   \n",
      "1            1       85             66             29        0  26.6   \n",
      "2            8      183             64              0        0  23.3   \n",
      "3            1       89             66             23       94  28.1   \n",
      "4            0      137             40             35      168  43.1   \n",
      "\n",
      "   DiabetesPedigreeFunction  Age  Outcome  \n",
      "0                     0.627   50        1  \n",
      "1                     0.351   31        0  \n",
      "2                     0.672   32        1  \n",
      "3                     0.167   21        0  \n",
      "4                     2.288   33        1  \n"
     ]
    }
   ],
   "source": [
    "dataset=pd.read_csv(\"diabetes.csv\")\n",
    "print(len(dataset))\n",
    "print(dataset.head())"
   ]
  },
  {
   "cell_type": "code",
   "execution_count": 46,
   "id": "3c842138",
   "metadata": {
    "execution": {
     "iopub.execute_input": "2022-04-27T16:45:33.314675Z",
     "iopub.status.busy": "2022-04-27T16:45:33.314386Z",
     "iopub.status.idle": "2022-04-27T16:45:33.318352Z",
     "shell.execute_reply": "2022-04-27T16:45:33.317466Z"
    },
    "papermill": {
     "duration": 0.019279,
     "end_time": "2022-04-27T16:45:33.320345",
     "exception": false,
     "start_time": "2022-04-27T16:45:33.301066",
     "status": "completed"
    },
    "tags": []
   },
   "outputs": [],
   "source": [
    "nonzero=['Glucose','BloodPressure','Insulin','BMI']"
   ]
  },
  {
   "cell_type": "code",
   "execution_count": 47,
   "id": "529ba7a2",
   "metadata": {
    "execution": {
     "iopub.execute_input": "2022-04-27T16:45:33.345516Z",
     "iopub.status.busy": "2022-04-27T16:45:33.344718Z",
     "iopub.status.idle": "2022-04-27T16:45:33.358490Z",
     "shell.execute_reply": "2022-04-27T16:45:33.357673Z"
    },
    "papermill": {
     "duration": 0.028955,
     "end_time": "2022-04-27T16:45:33.360597",
     "exception": false,
     "start_time": "2022-04-27T16:45:33.331642",
     "status": "completed"
    },
    "tags": []
   },
   "outputs": [],
   "source": [
    "for col in nonzero:\n",
    "    dataset[col]=dataset[col].replace(0,np.NaN)\n",
    "    mean=int(dataset[col].mean(skipna=True))\n",
    "    dataset[col]=dataset[col].replace(np.NaN,mean)"
   ]
  },
  {
   "cell_type": "code",
   "execution_count": 57,
   "id": "f395ef79",
   "metadata": {
    "execution": {
     "iopub.execute_input": "2022-04-27T16:45:33.386000Z",
     "iopub.status.busy": "2022-04-27T16:45:33.385509Z",
     "iopub.status.idle": "2022-04-27T16:45:33.392524Z",
     "shell.execute_reply": "2022-04-27T16:45:33.391724Z"
    },
    "papermill": {
     "duration": 0.02277,
     "end_time": "2022-04-27T16:45:33.394668",
     "exception": false,
     "start_time": "2022-04-27T16:45:33.371898",
     "status": "completed"
    },
    "tags": []
   },
   "outputs": [
    {
     "name": "stdout",
     "output_type": "stream",
     "text": [
      "0      148.0\n",
      "1       85.0\n",
      "2      183.0\n",
      "3       89.0\n",
      "4      137.0\n",
      "       ...  \n",
      "763    101.0\n",
      "764    122.0\n",
      "765    121.0\n",
      "766    126.0\n",
      "767     93.0\n",
      "Name: Glucose, Length: 768, dtype: float64 0      72.0\n",
      "1      66.0\n",
      "2      64.0\n",
      "3      66.0\n",
      "4      40.0\n",
      "       ... \n",
      "763    76.0\n",
      "764    70.0\n",
      "765    72.0\n",
      "766    60.0\n",
      "767    70.0\n",
      "Name: BloodPressure, Length: 768, dtype: float64\n"
     ]
    }
   ],
   "source": [
    "print(dataset['Glucose'])"
   ]
  },
  {
   "cell_type": "code",
   "execution_count": 49,
   "id": "47277960",
   "metadata": {
    "execution": {
     "iopub.execute_input": "2022-04-27T16:45:33.420646Z",
     "iopub.status.busy": "2022-04-27T16:45:33.420357Z",
     "iopub.status.idle": "2022-04-27T16:45:33.431024Z",
     "shell.execute_reply": "2022-04-27T16:45:33.430108Z"
    },
    "papermill": {
     "duration": 0.026282,
     "end_time": "2022-04-27T16:45:33.433068",
     "exception": false,
     "start_time": "2022-04-27T16:45:33.406786",
     "status": "completed"
    },
    "tags": []
   },
   "outputs": [],
   "source": [
    "x=dataset.iloc[:,0:8]\n",
    "y=dataset.iloc[:,8]\n",
    "x_train,x_test,y_train,y_test=train_test_split(x,y,random_state=1,test_size=0.3)"
   ]
  },
  {
   "cell_type": "code",
   "execution_count": 50,
   "id": "6dd59e0e",
   "metadata": {
    "execution": {
     "iopub.execute_input": "2022-04-27T16:45:33.458163Z",
     "iopub.status.busy": "2022-04-27T16:45:33.457689Z",
     "iopub.status.idle": "2022-04-27T16:45:33.466821Z",
     "shell.execute_reply": "2022-04-27T16:45:33.466189Z"
    },
    "papermill": {
     "duration": 0.024212,
     "end_time": "2022-04-27T16:45:33.468990",
     "exception": false,
     "start_time": "2022-04-27T16:45:33.444778",
     "status": "completed"
    },
    "tags": []
   },
   "outputs": [],
   "source": [
    "sc=StandardScaler()\n",
    "x_train=sc.fit_transform(x_train)\n",
    "x_test=sc.transform(x_test)"
   ]
  },
  {
   "cell_type": "code",
   "execution_count": 51,
   "id": "6c213e84",
   "metadata": {
    "execution": {
     "iopub.execute_input": "2022-04-27T16:45:33.493521Z",
     "iopub.status.busy": "2022-04-27T16:45:33.493268Z",
     "iopub.status.idle": "2022-04-27T16:45:33.498480Z",
     "shell.execute_reply": "2022-04-27T16:45:33.497872Z"
    },
    "papermill": {
     "duration": 0.019558,
     "end_time": "2022-04-27T16:45:33.500183",
     "exception": false,
     "start_time": "2022-04-27T16:45:33.480625",
     "status": "completed"
    },
    "tags": []
   },
   "outputs": [],
   "source": [
    "classifier=KNeighborsClassifier(n_neighbors=15,p=2,metric='euclidean')\n",
    "model=classifier.fit(x_train,y_train)"
   ]
  },
  {
   "cell_type": "code",
   "execution_count": 52,
   "id": "1ca7c6b6",
   "metadata": {
    "execution": {
     "iopub.execute_input": "2022-04-27T16:45:33.525303Z",
     "iopub.status.busy": "2022-04-27T16:45:33.524840Z",
     "iopub.status.idle": "2022-04-27T16:45:33.541852Z",
     "shell.execute_reply": "2022-04-27T16:45:33.541262Z"
    },
    "papermill": {
     "duration": 0.03202,
     "end_time": "2022-04-27T16:45:33.543782",
     "exception": false,
     "start_time": "2022-04-27T16:45:33.511762",
     "status": "completed"
    },
    "tags": []
   },
   "outputs": [
    {
     "data": {
      "text/plain": [
       "array([0, 0, 0, 0, 0, 0, 0, 0, 0, 0, 0, 0, 0, 1, 0, 1, 0, 0, 0, 0, 0, 0,\n",
       "       1, 0, 0, 1, 0, 1, 0, 1, 1, 0, 0, 1, 0, 0, 0, 0, 0, 0, 0, 0, 0, 0,\n",
       "       0, 0, 1, 1, 0, 0, 0, 0, 1, 0, 1, 0, 0, 0, 0, 0, 1, 0, 1, 0, 0, 0,\n",
       "       0, 1, 1, 1, 1, 1, 1, 0, 1, 0, 1, 0, 0, 0, 0, 0, 1, 0, 0, 1, 0, 0,\n",
       "       0, 0, 0, 0, 0, 0, 1, 0, 0, 0, 1, 0, 0, 0, 0, 0, 0, 0, 1, 1, 0, 0,\n",
       "       0, 0, 1, 0, 1, 0, 0, 1, 0, 1, 0, 1, 0, 0, 0, 0, 1, 0, 1, 0, 1, 0,\n",
       "       0, 0, 0, 0, 0, 0, 0, 0, 1, 0, 0, 1, 0, 1, 0, 0, 0, 0, 0, 1, 0, 0,\n",
       "       1, 1, 0, 0, 0, 0, 1, 0, 0, 0, 0, 0, 0, 0, 1, 1, 1, 1, 0, 0, 1, 0,\n",
       "       1, 0, 0, 0, 1, 1, 0, 1, 0, 0, 0, 0, 0, 0, 0, 0, 0, 0, 1, 0, 0, 0,\n",
       "       0, 1, 1, 0, 0, 0, 1, 1, 0, 0, 0, 1, 0, 1, 1, 1, 0, 0, 0, 0, 0, 0,\n",
       "       0, 0, 0, 1, 0, 0, 0, 0, 0, 1, 0], dtype=int64)"
      ]
     },
     "execution_count": 52,
     "metadata": {},
     "output_type": "execute_result"
    }
   ],
   "source": [
    "yp=classifier.predict(x_test)\n",
    "print(x_test)\n",
    "yp"
   ]
  },
  {
   "cell_type": "code",
   "execution_count": 53,
   "id": "da860322",
   "metadata": {
    "execution": {
     "iopub.execute_input": "2022-04-27T16:45:33.570017Z",
     "iopub.status.busy": "2022-04-27T16:45:33.569558Z",
     "iopub.status.idle": "2022-04-27T16:45:33.576990Z",
     "shell.execute_reply": "2022-04-27T16:45:33.576196Z"
    },
    "papermill": {
     "duration": 0.023048,
     "end_time": "2022-04-27T16:45:33.578997",
     "exception": false,
     "start_time": "2022-04-27T16:45:33.555949",
     "status": "completed"
    },
    "tags": []
   },
   "outputs": [
    {
     "name": "stdout",
     "output_type": "stream",
     "text": [
      "[[132  14]\n",
      " [ 36  49]]\n"
     ]
    }
   ],
   "source": [
    "CM=confusion_matrix(y_test,yp)\n",
    "print(CM)"
   ]
  },
  {
   "cell_type": "code",
   "execution_count": 54,
   "id": "72688bc2",
   "metadata": {
    "execution": {
     "iopub.execute_input": "2022-04-27T16:45:33.605560Z",
     "iopub.status.busy": "2022-04-27T16:45:33.605100Z",
     "iopub.status.idle": "2022-04-27T16:45:33.611149Z",
     "shell.execute_reply": "2022-04-27T16:45:33.610184Z"
    },
    "papermill": {
     "duration": 0.021719,
     "end_time": "2022-04-27T16:45:33.613084",
     "exception": false,
     "start_time": "2022-04-27T16:45:33.591365",
     "status": "completed"
    },
    "tags": []
   },
   "outputs": [
    {
     "name": "stdout",
     "output_type": "stream",
     "text": [
      "F-Score:  0.6621621621621621\n"
     ]
    }
   ],
   "source": [
    "print(\"F-Score: \",(f1_score(y_test,yp)))"
   ]
  },
  {
   "cell_type": "code",
   "execution_count": 55,
   "id": "f96a75d7",
   "metadata": {
    "execution": {
     "iopub.execute_input": "2022-04-27T16:45:33.639966Z",
     "iopub.status.busy": "2022-04-27T16:45:33.639425Z",
     "iopub.status.idle": "2022-04-27T16:45:33.644813Z",
     "shell.execute_reply": "2022-04-27T16:45:33.643554Z"
    },
    "papermill": {
     "duration": 0.021178,
     "end_time": "2022-04-27T16:45:33.646636",
     "exception": false,
     "start_time": "2022-04-27T16:45:33.625458",
     "status": "completed"
    },
    "tags": []
   },
   "outputs": [
    {
     "name": "stdout",
     "output_type": "stream",
     "text": [
      "Model Accuracy:  78.35497835497836 %\n"
     ]
    }
   ],
   "source": [
    "print(\"Model Accuracy: \",accuracy_score(y_test,yp)*100,\"%\")"
   ]
  },
  {
   "cell_type": "code",
   "execution_count": null,
   "id": "de5d5c9c",
   "metadata": {},
   "outputs": [],
   "source": []
  },
  {
   "cell_type": "code",
   "execution_count": null,
   "id": "e351c4d4",
   "metadata": {},
   "outputs": [],
   "source": []
  }
 ],
 "metadata": {
  "kernelspec": {
   "display_name": "Python 3 (ipykernel)",
   "language": "python",
   "name": "python3"
  },
  "language_info": {
   "codemirror_mode": {
    "name": "ipython",
    "version": 3
   },
   "file_extension": ".py",
   "mimetype": "text/x-python",
   "name": "python",
   "nbconvert_exporter": "python",
   "pygments_lexer": "ipython3",
   "version": "3.7.0"
  },
  "papermill": {
   "default_parameters": {},
   "duration": 11.599285,
   "end_time": "2022-04-27T16:45:34.380385",
   "environment_variables": {},
   "exception": null,
   "input_path": "__notebook__.ipynb",
   "output_path": "__notebook__.ipynb",
   "parameters": {},
   "start_time": "2022-04-27T16:45:22.781100",
   "version": "2.3.4"
  }
 },
 "nbformat": 4,
 "nbformat_minor": 5
}
