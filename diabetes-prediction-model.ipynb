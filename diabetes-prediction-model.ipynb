{
 "cells": [
  {
   "cell_type": "code",
   "execution_count": 46,
   "id": "b49e7e14",
   "metadata": {
    "execution": {
     "iopub.execute_input": "2022-04-23T05:04:10.812817Z",
     "iopub.status.busy": "2022-04-23T05:04:10.812277Z",
     "iopub.status.idle": "2022-04-23T05:04:11.906981Z",
     "shell.execute_reply": "2022-04-23T05:04:11.905949Z"
    },
    "id": "-71UtHzNVWjB",
    "papermill": {
     "duration": 1.123299,
     "end_time": "2022-04-23T05:04:11.909567",
     "exception": false,
     "start_time": "2022-04-23T05:04:10.786268",
     "status": "completed"
    },
    "tags": []
   },
   "outputs": [],
   "source": [
    "import numpy as np\n",
    "import pandas as pd\n",
    "from sklearn.model_selection import train_test_split\n",
    "from sklearn import svm\n",
    "from sklearn.metrics import accuracy_score\n",
    "import seaborn as sns\n"
   ]
  },
  {
   "cell_type": "code",
   "execution_count": 47,
   "id": "484ecdca",
   "metadata": {
    "execution": {
     "iopub.execute_input": "2022-04-23T05:04:12.012114Z",
     "iopub.status.busy": "2022-04-23T05:04:12.011468Z",
     "iopub.status.idle": "2022-04-23T05:04:12.032875Z",
     "shell.execute_reply": "2022-04-23T05:04:12.032261Z"
    },
    "id": "Xpw6Mj_pn_TL",
    "papermill": {
     "duration": 0.051904,
     "end_time": "2022-04-23T05:04:12.034892",
     "exception": false,
     "start_time": "2022-04-23T05:04:11.982988",
     "status": "completed"
    },
    "tags": []
   },
   "outputs": [
    {
     "data": {
      "text/html": [
       "<div>\n",
       "<style scoped>\n",
       "    .dataframe tbody tr th:only-of-type {\n",
       "        vertical-align: middle;\n",
       "    }\n",
       "\n",
       "    .dataframe tbody tr th {\n",
       "        vertical-align: top;\n",
       "    }\n",
       "\n",
       "    .dataframe thead th {\n",
       "        text-align: right;\n",
       "    }\n",
       "</style>\n",
       "<table border=\"1\" class=\"dataframe\">\n",
       "  <thead>\n",
       "    <tr style=\"text-align: right;\">\n",
       "      <th></th>\n",
       "      <th>Pregnancies</th>\n",
       "      <th>Glucose</th>\n",
       "      <th>BloodPressure</th>\n",
       "      <th>SkinThickness</th>\n",
       "      <th>Insulin</th>\n",
       "      <th>BMI</th>\n",
       "      <th>DiabetesPedigreeFunction</th>\n",
       "      <th>Age</th>\n",
       "      <th>Outcome</th>\n",
       "    </tr>\n",
       "  </thead>\n",
       "  <tbody>\n",
       "    <tr>\n",
       "      <th>0</th>\n",
       "      <td>6</td>\n",
       "      <td>148</td>\n",
       "      <td>72</td>\n",
       "      <td>35</td>\n",
       "      <td>0</td>\n",
       "      <td>33.6</td>\n",
       "      <td>0.627</td>\n",
       "      <td>50</td>\n",
       "      <td>1</td>\n",
       "    </tr>\n",
       "    <tr>\n",
       "      <th>1</th>\n",
       "      <td>1</td>\n",
       "      <td>85</td>\n",
       "      <td>66</td>\n",
       "      <td>29</td>\n",
       "      <td>0</td>\n",
       "      <td>26.6</td>\n",
       "      <td>0.351</td>\n",
       "      <td>31</td>\n",
       "      <td>0</td>\n",
       "    </tr>\n",
       "    <tr>\n",
       "      <th>2</th>\n",
       "      <td>8</td>\n",
       "      <td>183</td>\n",
       "      <td>64</td>\n",
       "      <td>0</td>\n",
       "      <td>0</td>\n",
       "      <td>23.3</td>\n",
       "      <td>0.672</td>\n",
       "      <td>32</td>\n",
       "      <td>1</td>\n",
       "    </tr>\n",
       "    <tr>\n",
       "      <th>3</th>\n",
       "      <td>1</td>\n",
       "      <td>89</td>\n",
       "      <td>66</td>\n",
       "      <td>23</td>\n",
       "      <td>94</td>\n",
       "      <td>28.1</td>\n",
       "      <td>0.167</td>\n",
       "      <td>21</td>\n",
       "      <td>0</td>\n",
       "    </tr>\n",
       "    <tr>\n",
       "      <th>4</th>\n",
       "      <td>0</td>\n",
       "      <td>137</td>\n",
       "      <td>40</td>\n",
       "      <td>35</td>\n",
       "      <td>168</td>\n",
       "      <td>43.1</td>\n",
       "      <td>2.288</td>\n",
       "      <td>33</td>\n",
       "      <td>1</td>\n",
       "    </tr>\n",
       "  </tbody>\n",
       "</table>\n",
       "</div>"
      ],
      "text/plain": [
       "   Pregnancies  Glucose  BloodPressure  SkinThickness  Insulin   BMI  \\\n",
       "0            6      148             72             35        0  33.6   \n",
       "1            1       85             66             29        0  26.6   \n",
       "2            8      183             64              0        0  23.3   \n",
       "3            1       89             66             23       94  28.1   \n",
       "4            0      137             40             35      168  43.1   \n",
       "\n",
       "   DiabetesPedigreeFunction  Age  Outcome  \n",
       "0                     0.627   50        1  \n",
       "1                     0.351   31        0  \n",
       "2                     0.672   32        1  \n",
       "3                     0.167   21        0  \n",
       "4                     2.288   33        1  "
      ]
     },
     "execution_count": 47,
     "metadata": {},
     "output_type": "execute_result"
    }
   ],
   "source": [
    "# instansiate a panda dataframe with our csv file\n",
    "diabetes_dataset = pd.read_csv('diabetes.csv') \n",
    "diabetes_dataset.head(5)"
   ]
  },
  {
   "cell_type": "code",
   "execution_count": null,
   "id": "1d387680",
   "metadata": {},
   "outputs": [],
   "source": []
  },
  {
   "cell_type": "code",
   "execution_count": 48,
   "id": "62e47513",
   "metadata": {
    "execution": {
     "iopub.execute_input": "2022-04-23T05:04:12.085899Z",
     "iopub.status.busy": "2022-04-23T05:04:12.085445Z",
     "iopub.status.idle": "2022-04-23T05:04:12.103124Z",
     "shell.execute_reply": "2022-04-23T05:04:12.102592Z"
    },
    "id": "-tjO09ncovoh",
    "outputId": "0f5f8129-eb57-4ba0-f329-312bba4aae27",
    "papermill": {
     "duration": 0.045133,
     "end_time": "2022-04-23T05:04:12.104680",
     "exception": false,
     "start_time": "2022-04-23T05:04:12.059547",
     "status": "completed"
    },
    "tags": []
   },
   "outputs": [
    {
     "data": {
      "text/html": [
       "<div>\n",
       "<style scoped>\n",
       "    .dataframe tbody tr th:only-of-type {\n",
       "        vertical-align: middle;\n",
       "    }\n",
       "\n",
       "    .dataframe tbody tr th {\n",
       "        vertical-align: top;\n",
       "    }\n",
       "\n",
       "    .dataframe thead th {\n",
       "        text-align: right;\n",
       "    }\n",
       "</style>\n",
       "<table border=\"1\" class=\"dataframe\">\n",
       "  <thead>\n",
       "    <tr style=\"text-align: right;\">\n",
       "      <th></th>\n",
       "      <th>Pregnancies</th>\n",
       "      <th>Glucose</th>\n",
       "      <th>BMI</th>\n",
       "      <th>Age</th>\n",
       "      <th>Outcome</th>\n",
       "    </tr>\n",
       "  </thead>\n",
       "  <tbody>\n",
       "    <tr>\n",
       "      <th>0</th>\n",
       "      <td>6</td>\n",
       "      <td>148</td>\n",
       "      <td>33.6</td>\n",
       "      <td>50</td>\n",
       "      <td>1</td>\n",
       "    </tr>\n",
       "    <tr>\n",
       "      <th>1</th>\n",
       "      <td>1</td>\n",
       "      <td>85</td>\n",
       "      <td>26.6</td>\n",
       "      <td>31</td>\n",
       "      <td>0</td>\n",
       "    </tr>\n",
       "    <tr>\n",
       "      <th>2</th>\n",
       "      <td>8</td>\n",
       "      <td>183</td>\n",
       "      <td>23.3</td>\n",
       "      <td>32</td>\n",
       "      <td>1</td>\n",
       "    </tr>\n",
       "    <tr>\n",
       "      <th>3</th>\n",
       "      <td>1</td>\n",
       "      <td>89</td>\n",
       "      <td>28.1</td>\n",
       "      <td>21</td>\n",
       "      <td>0</td>\n",
       "    </tr>\n",
       "    <tr>\n",
       "      <th>4</th>\n",
       "      <td>0</td>\n",
       "      <td>137</td>\n",
       "      <td>43.1</td>\n",
       "      <td>33</td>\n",
       "      <td>1</td>\n",
       "    </tr>\n",
       "  </tbody>\n",
       "</table>\n",
       "</div>"
      ],
      "text/plain": [
       "   Pregnancies  Glucose   BMI  Age  Outcome\n",
       "0            6      148  33.6   50        1\n",
       "1            1       85  26.6   31        0\n",
       "2            8      183  23.3   32        1\n",
       "3            1       89  28.1   21        0\n",
       "4            0      137  43.1   33        1"
      ]
     },
     "execution_count": 48,
     "metadata": {},
     "output_type": "execute_result"
    }
   ],
   "source": [
    "#Remove data columns that our user will not be able to readily provide on their own\n",
    "diabetes_dataset = diabetes_dataset.drop(columns = ['SkinThickness', 'Insulin', 'DiabetesPedigreeFunction', 'BloodPressure'],\n",
    "                                         axis=0)\n",
    "diabetes_dataset.head(5)"
   ]
  },
  {
   "cell_type": "code",
   "execution_count": 49,
   "id": "6fad6837",
   "metadata": {},
   "outputs": [
    {
     "data": {
      "text/plain": [
       "<AxesSubplot:xlabel='Outcome', ylabel='Outcome'>"
      ]
     },
     "execution_count": 49,
     "metadata": {},
     "output_type": "execute_result"
    },
    {
     "data": {
      "image/png": "[encoded data removed]",
      "text/plain": [
       "<Figure size 432x288 with 1 Axes>"
      ]
     },
     "metadata": {
      "needs_background": "light"
     },
     "output_type": "display_data"
    }
   ],
   "source": [
    "#this barplot shows the number of non-diabetic patients vs diabetic patients in our dataset\n",
    "sns.barplot(x='Outcome', y=diabetes_dataset['Outcome'].value_counts(), data=diabetes_dataset)"
   ]
  },
  {
   "cell_type": "code",
   "execution_count": 50,
   "id": "092f01c1",
   "metadata": {},
   "outputs": [
    {
     "data": {
      "text/plain": [
       "<AxesSubplot:xlabel='Age', ylabel='Density'>"
      ]
     },
     "execution_count": 50,
     "metadata": {},
     "output_type": "execute_result"
    },
    {
     "data": {
      "image/png": "[encoded data removed]",
      "text/plain": [
       "<Figure size 432x288 with 1 Axes>"
      ]
     },
     "metadata": {
      "needs_background": "light"
     },
     "output_type": "display_data"
    }
   ],
   "source": [
    "#the following distribution plot shows the age distribution of our dataset\n",
    "# We can see the most dense age group is 20-30 years old\n",
    "sns.distplot(diabetes_dataset['Age'])"
   ]
  },
  {
   "cell_type": "code",
   "execution_count": 51,
   "id": "322db3c7",
   "metadata": {},
   "outputs": [
    {
     "data": {
      "text/plain": [
       "<AxesSubplot:xlabel='Outcome', ylabel='Glucose'>"
      ]
     },
     "execution_count": 51,
     "metadata": {},
     "output_type": "execute_result"
    },
    {
     "data": {
      "image/png": "[encoded data removed]",
      "text/plain": [
       "<Figure size 432x288 with 1 Axes>"
      ]
     },
     "metadata": {
      "needs_background": "light"
     },
     "output_type": "display_data"
    }
   ],
   "source": [
    "# the following boxplot visual shows us the comparison\n",
    "# between glucose levels in non-diabetic patients\n",
    "# vs glucose levels in diabetic patients\n",
    "sns.boxplot(x='Outcome', y='Glucose', data=diabetes_dataset)"
   ]
  },
  {
   "cell_type": "code",
   "execution_count": 52,
   "id": "cf979840",
   "metadata": {
    "execution": {
     "iopub.execute_input": "2022-04-23T05:04:12.501144Z",
     "iopub.status.busy": "2022-04-23T05:04:12.500760Z",
     "iopub.status.idle": "2022-04-23T05:04:12.505733Z",
     "shell.execute_reply": "2022-04-23T05:04:12.505191Z"
    },
    "id": "RoDW7l9mqqHZ",
    "papermill": {
     "duration": 0.034513,
     "end_time": "2022-04-23T05:04:12.507357",
     "exception": false,
     "start_time": "2022-04-23T05:04:12.472844",
     "status": "completed"
    },
    "tags": []
   },
   "outputs": [],
   "source": [
    "# separating the data and labels\n",
    "X = diabetes_dataset.drop(columns = 'Outcome', axis=1)\n",
    "Y = diabetes_dataset['Outcome']"
   ]
  },
  {
   "cell_type": "code",
   "execution_count": 53,
   "id": "4b467e08",
   "metadata": {
    "execution": {
     "iopub.execute_input": "2022-04-23T05:04:12.753319Z",
     "iopub.status.busy": "2022-04-23T05:04:12.753049Z",
     "iopub.status.idle": "2022-04-23T05:04:12.761877Z",
     "shell.execute_reply": "2022-04-23T05:04:12.761246Z"
    },
    "id": "AEfKGj_yslvD",
    "papermill": {
     "duration": 0.039215,
     "end_time": "2022-04-23T05:04:12.763600",
     "exception": false,
     "start_time": "2022-04-23T05:04:12.724385",
     "status": "completed"
    },
    "tags": []
   },
   "outputs": [],
   "source": [
    "X_train, X_test, Y_train, Y_test = train_test_split(X,Y, test_size = 0.2, stratify=Y, random_state=2)"
   ]
  },
  {
   "cell_type": "code",
   "execution_count": 54,
   "id": "9904b482",
   "metadata": {
    "execution": {
     "iopub.execute_input": "2022-04-23T05:04:12.941732Z",
     "iopub.status.busy": "2022-04-23T05:04:12.941426Z",
     "iopub.status.idle": "2022-04-23T05:04:12.945147Z",
     "shell.execute_reply": "2022-04-23T05:04:12.944562Z"
    },
    "id": "5szLWHlNt9xc",
    "papermill": {
     "duration": 0.034541,
     "end_time": "2022-04-23T05:04:12.946757",
     "exception": false,
     "start_time": "2022-04-23T05:04:12.912216",
     "status": "completed"
    },
    "tags": []
   },
   "outputs": [],
   "source": [
    "model = svm.SVC(kernel='linear', probability=True)"
   ]
  },
  {
   "cell_type": "code",
   "execution_count": 55,
   "id": "35eaeff2",
   "metadata": {
    "execution": {
     "iopub.execute_input": "2022-04-23T05:04:13.005603Z",
     "iopub.status.busy": "2022-04-23T05:04:13.004870Z",
     "iopub.status.idle": "2022-04-23T05:04:15.464833Z",
     "shell.execute_reply": "2022-04-23T05:04:15.464049Z"
    },
    "id": "ncJWY_7suPAb",
    "outputId": "1a8fc42b-37a5-4e59-d52a-5dd5e09560e8",
    "papermill": {
     "duration": 2.491555,
     "end_time": "2022-04-23T05:04:15.467219",
     "exception": false,
     "start_time": "2022-04-23T05:04:12.975664",
     "status": "completed"
    },
    "tags": []
   },
   "outputs": [
    {
     "data": {
      "text/plain": [
       "SVC(kernel='linear', probability=True)"
      ]
     },
     "execution_count": 55,
     "metadata": {},
     "output_type": "execute_result"
    }
   ],
   "source": [
    "# train the model\n",
    "model.fit(X_train, Y_train)"
   ]
  },
  {
   "cell_type": "code",
   "execution_count": 56,
   "id": "c95a8bd9",
   "metadata": {
    "execution": {
     "iopub.execute_input": "2022-04-23T05:04:15.586552Z",
     "iopub.status.busy": "2022-04-23T05:04:15.586248Z",
     "iopub.status.idle": "2022-04-23T05:04:15.599184Z",
     "shell.execute_reply": "2022-04-23T05:04:15.598323Z"
    },
    "id": "fJLEPQK7ueXp",
    "papermill": {
     "duration": 0.044634,
     "end_time": "2022-04-23T05:04:15.601261",
     "exception": false,
     "start_time": "2022-04-23T05:04:15.556627",
     "status": "completed"
    },
    "tags": []
   },
   "outputs": [],
   "source": [
    "# generate the accuracy score for the training data\n",
    "X_train_prediction = model.predict(X_train)\n",
    "trainDataAccuracy = accuracy_score(X_train_prediction, Y_train)"
   ]
  },
  {
   "cell_type": "code",
   "execution_count": 57,
   "id": "fd6eec07",
   "metadata": {
    "execution": {
     "iopub.execute_input": "2022-04-23T05:04:15.662689Z",
     "iopub.status.busy": "2022-04-23T05:04:15.661697Z",
     "iopub.status.idle": "2022-04-23T05:04:15.667384Z",
     "shell.execute_reply": "2022-04-23T05:04:15.666465Z"
    },
    "id": "mmJ22qhVvNwj",
    "outputId": "1b1c3d32-b9f2-40c0-89ed-5d59b674cdfe",
    "papermill": {
     "duration": 0.037716,
     "end_time": "2022-04-23T05:04:15.669310",
     "exception": false,
     "start_time": "2022-04-23T05:04:15.631594",
     "status": "completed"
    },
    "tags": []
   },
   "outputs": [
    {
     "name": "stdout",
     "output_type": "stream",
     "text": [
      "train data accuracy  0.7752442996742671\n"
     ]
    }
   ],
   "source": [
    "print('train data accuracy ', trainDataAccuracy)"
   ]
  },
  {
   "cell_type": "code",
   "execution_count": 58,
   "id": "14b57bfe",
   "metadata": {
    "execution": {
     "iopub.execute_input": "2022-04-23T05:04:15.731976Z",
     "iopub.status.busy": "2022-04-23T05:04:15.731343Z",
     "iopub.status.idle": "2022-04-23T05:04:15.740207Z",
     "shell.execute_reply": "2022-04-23T05:04:15.739355Z"
    },
    "id": "G2CICFMEvcCl",
    "papermill": {
     "duration": 0.042867,
     "end_time": "2022-04-23T05:04:15.742077",
     "exception": false,
     "start_time": "2022-04-23T05:04:15.699210",
     "status": "completed"
    },
    "tags": []
   },
   "outputs": [],
   "source": [
    "# generate the accuracy score for the test data\n",
    "X_test_prediction = model.predict(X_test)\n",
    "testDataAccuracy = accuracy_score(X_test_prediction, Y_test)"
   ]
  },
  {
   "cell_type": "code",
   "execution_count": 59,
   "id": "82f7f688",
   "metadata": {
    "execution": {
     "iopub.execute_input": "2022-04-23T05:04:15.800990Z",
     "iopub.status.busy": "2022-04-23T05:04:15.800376Z",
     "iopub.status.idle": "2022-04-23T05:04:15.805268Z",
     "shell.execute_reply": "2022-04-23T05:04:15.804359Z"
    },
    "id": "i2GcW_t_vz7C",
    "outputId": "a65c3281-1621-4c8f-b57f-bbf0bc81d129",
    "papermill": {
     "duration": 0.035942,
     "end_time": "2022-04-23T05:04:15.807026",
     "exception": false,
     "start_time": "2022-04-23T05:04:15.771084",
     "status": "completed"
    },
    "tags": []
   },
   "outputs": [
    {
     "name": "stdout",
     "output_type": "stream",
     "text": [
      "test data accuracy  0.7532467532467533\n"
     ]
    }
   ],
   "source": [
    "print('test data accuracy ', testDataAccuracy)"
   ]
  },
  {
   "cell_type": "code",
   "execution_count": 60,
   "id": "c48db81b",
   "metadata": {
    "papermill": {
     "duration": 0.028278,
     "end_time": "2022-04-23T05:04:16.319795",
     "exception": false,
     "start_time": "2022-04-23T05:04:16.291517",
     "status": "completed"
    },
    "tags": []
   },
   "outputs": [],
   "source": [
    "import anvil.server\n",
    "\n",
    "anvil.server.connect('E56QE74RLMUW73ATOLTIRETU-YYHMPFXUCLC5FLK4')"
   ]
  },
  {
   "cell_type": "code",
   "execution_count": 61,
   "id": "48349dd3",
   "metadata": {
    "papermill": {
     "duration": 0.02853,
     "end_time": "2022-04-23T05:04:16.376735",
     "exception": false,
     "start_time": "2022-04-23T05:04:16.348205",
     "status": "completed"
    },
    "tags": []
   },
   "outputs": [],
   "source": [
    "@anvil.server.callable\n",
    "def predict_user_data(userInput):\n",
    "    userInput_as_numpy_array = np.asarray(userInput)\n",
    "    userInput_reshaped = userInput_as_numpy_array.reshape(1,-1)\n",
    "    prediction = model.predict(userInput_reshaped)\n",
    "    predprob = model.predict_proba(userInput_reshaped)\n",
    "    maxprob = max(predprob[0][0], predprob[0][1])\n",
    "    maxprob = maxprob * 100\n",
    "    maxprob = \"{:.2f}\".format(maxprob)\n",
    "    print(prediction)\n",
    "    if (prediction[0] == 0):\n",
    "      return('You are not diabetic', maxprob)\n",
    "    else:\n",
    "      return('You are diabetic', maxprob)\n",
    "\n",
    "# https://YYHMPFXUCLC5FLK4.anvil.app/HTKLFKUXWHKEYVX3ED3TPJQR"
   ]
  },
  {
   "cell_type": "code",
   "execution_count": 67,
   "id": "9b36f4f5",
   "metadata": {},
   "outputs": [
    {
     "ename": "AttributeError",
     "evalue": "module 'anvil' has no attribute '__version__'",
     "output_type": "error",
     "traceback": [
      "\u001b[1;31m---------------------------------------------------------------------------\u001b[0m",
      "\u001b[1;31mAttributeError\u001b[0m                            Traceback (most recent call last)",
      "\u001b[1;32m~\\AppData\\Local\\Temp\\ipykernel_20104\\3161420724.py\u001b[0m in \u001b[0;36m<module>\u001b[1;34m\u001b[0m\n\u001b[1;32m----> 1\u001b[1;33m \u001b[0manvil\u001b[0m\u001b[1;33m.\u001b[0m\u001b[0m__version__\u001b[0m\u001b[1;33m\u001b[0m\u001b[0m\n\u001b[0m",
      "\u001b[1;31mAttributeError\u001b[0m: module 'anvil' has no attribute '__version__'"
     ]
    }
   ],
   "source": [
    "anvil-uplink.__version__"
   ]
  },
  {
   "cell_type": "code",
   "execution_count": 64,
   "id": "c51214dc",
   "metadata": {},
   "outputs": [
    {
     "name": "stdout",
     "output_type": "stream",
     "text": [
      "The watermark extension is already loaded. To reload it, use:\n",
      "  %reload_ext watermark\n",
      "Python implementation: CPython\n",
      "Python version       : 3.7.0\n",
      "IPython version      : 7.32.0\n",
      "\n",
      "numpy    : 1.21.6\n",
      "pandas   : 1.1.5\n",
      "sklearn  : 0.0\n",
      "seaborn  : 0.11.2\n",
      "jupyter  : 1.0.0\n",
      "watermark: 2.3.0\n",
      "\n",
      "Compiler    : MSC v.1914 64 bit (AMD64)\n",
      "OS          : Windows\n",
      "Release     : 10\n",
      "Machine     : AMD64\n",
      "Processor   : Intel64 Family 6 Model 158 Stepping 12, GenuineIntel\n",
      "CPU cores   : 8\n",
      "Architecture: 64bit\n",
      "\n"
     ]
    }
   ],
   "source": [
    "import watermark\n",
    "\n",
    "%load_ext watermark\n",
    "\n",
    "%watermark -v -m -p numpy,pandas,sklearn,seaborn,jupyter,watermark"
   ]
  },
  {
   "cell_type": "code",
   "execution_count": null,
   "id": "6046f246",
   "metadata": {},
   "outputs": [],
   "source": []
  }
 ],
 "metadata": {
  "kernelspec": {
   "display_name": "Python 3 (ipykernel)",
   "language": "python",
   "name": "python3"
  },
  "language_info": {
   "codemirror_mode": {
    "name": "ipython",
    "version": 3
   },
   "file_extension": ".py",
   "mimetype": "text/x-python",
   "name": "python",
   "nbconvert_exporter": "python",
   "pygments_lexer": "ipython3",
   "version": "3.7.0"
  },
  "papermill": {
   "default_parameters": {},
   "duration": 14.853188,
   "end_time": "2022-04-23T05:04:17.182918",
   "environment_variables": {},
   "exception": null,
   "input_path": "__notebook__.ipynb",
   "output_path": "__notebook__.ipynb",
   "parameters": {},
   "start_time": "2022-04-23T05:04:02.329730",
   "version": "2.3.4"
  }
 },
 "nbformat": 4,
 "nbformat_minor": 5
}
